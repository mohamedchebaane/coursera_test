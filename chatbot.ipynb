{
  "nbformat": 4,
  "nbformat_minor": 0,
  "metadata": {
    "colab": {
      "provenance": [],
      "authorship_tag": "ABX9TyM95dbkMnEZ/8EWzFwkQFrA",
      "include_colab_link": true
    },
    "kernelspec": {
      "name": "python3",
      "display_name": "Python 3"
    },
    "language_info": {
      "name": "python"
    }
  },
  "cells": [
    {
      "cell_type": "markdown",
      "metadata": {
        "id": "view-in-github",
        "colab_type": "text"
      },
      "source": [
        "<a href=\"https://colab.research.google.com/github/mohamedchebaane/coursera_test/blob/master/chatbot.ipynb\" target=\"_parent\"><img src=\"https://colab.research.google.com/assets/colab-badge.svg\" alt=\"Open In Colab\"/></a>"
      ]
    },
    {
      "cell_type": "code",
      "execution_count": 1,
      "metadata": {
        "id": "VRmKwUoN6YEG"
      },
      "outputs": [],
      "source": [
        "import sqlite3"
      ]
    },
    {
      "cell_type": "code",
      "source": [
        "import json"
      ],
      "metadata": {
        "id": "qG32wxKX6cyD"
      },
      "execution_count": 2,
      "outputs": []
    },
    {
      "cell_type": "code",
      "source": [
        "from datetime import datetime"
      ],
      "metadata": {
        "id": "ujxyaM416eNI"
      },
      "execution_count": 3,
      "outputs": []
    },
    {
      "cell_type": "code",
      "source": [
        "timeframe = '2024-07'"
      ],
      "metadata": {
        "id": "sADB7JMl6hOa"
      },
      "execution_count": 4,
      "outputs": []
    },
    {
      "cell_type": "code",
      "source": [
        "sql_transaction = {}"
      ],
      "metadata": {
        "id": "1dHnxyXe6ms-"
      },
      "execution_count": 9,
      "outputs": []
    },
    {
      "cell_type": "code",
      "source": [
        "connection = sqlite3.connect('{}.db'.format(timeframe))"
      ],
      "metadata": {
        "id": "QG4V2spA6rVR"
      },
      "execution_count": 10,
      "outputs": []
    },
    {
      "cell_type": "code",
      "source": [
        "c = connection.cursor()"
      ],
      "metadata": {
        "id": "PY7s0taI7AXO"
      },
      "execution_count": 11,
      "outputs": []
    },
    {
      "cell_type": "code",
      "source": [
        "def create_table():\n",
        "    c.execute(\"CREATE TABLE IF NOT EXISTS parent_reply(parent_id TEXT PRIMARY KEY, comment_id TEXT UNIQUE, parent TEXT, comment TEXT, subreddit TEXT, unix INT, score INT)\"\"\")"
      ],
      "metadata": {
        "id": "Uk7tAqBG7YvT"
      },
      "execution_count": 14,
      "outputs": []
    },
    {
      "cell_type": "code",
      "source": [
        "def format_data(data):\n",
        "    data = data.replace(\"\\n\",\" newlinechar \")"
      ],
      "metadata": {
        "id": "gV8oR05x8m2V"
      },
      "execution_count": 17,
      "outputs": []
    },
    {
      "cell_type": "code",
      "source": [
        "def find_existing_score(pid):\n",
        "    try:\n",
        "        sql = \"SELECT score FROM parent_reply WHERE parent_id = '{}' LIMIT 1\".format(pid)\n",
        "        c.execute(sql)\n",
        "        result = c.fetchone()\n",
        "        if result != None:\n",
        "            return result[0]\n",
        "        else: return False\n",
        "    except Exception as e:\n",
        "        #print(\"find_parent\", e)\n",
        "        return False\n",
        "\n"
      ],
      "metadata": {
        "id": "hHJa3onJEqYK"
      },
      "execution_count": 21,
      "outputs": []
    },
    {
      "cell_type": "code",
      "source": [
        "def acceptable(data):\n",
        "    if len(data.split(' ')) > 50 or len(data) < 1:\n",
        "        return False\n",
        "    elif len(data) > 1000:\n",
        "        return False\n",
        "    elif data =='[deleted]' or data == '[removed]':\n",
        "        return False\n",
        "    else:\n",
        "        return True"
      ],
      "metadata": {
        "id": "4E2k39N9FyI2"
      },
      "execution_count": 23,
      "outputs": []
    },
    {
      "cell_type": "code",
      "source": [
        "def find_parent(pid):\n",
        "    try:\n",
        "      sql = \"SELECT comment FROM parent_reply WHERE comment_id = '{}' LIMIT 1\".format(pid)\n",
        "      c.execute(sql)\n",
        "      result = c.fetchone()\n",
        "      if result != None:\n",
        "          return result[0]\n",
        "      else: return False\n",
        "    except Exception as e:\n",
        "      #print(\"find_parent\", e)\n",
        "      return False\n",
        "\n",
        "\n"
      ],
      "metadata": {
        "id": "vKKSv0Cz_RIO"
      },
      "execution_count": 24,
      "outputs": []
    },
    {
      "cell_type": "code",
      "source": [
        "def transaction_bldr(sql):\n",
        "    global sql_transaction\n",
        "    sql_transaction.append(sql)\n",
        "    if len(sql_transaction) > 1000:\n",
        "        c.execute('BEGIN TRANSACTION')\n",
        "        for a in sql_transaction:\n",
        "            try:\n",
        "                c.execute(s)\n",
        "            except:\n",
        "                pass\n",
        "        connection.commit()\n",
        "        sql_transaction = []"
      ],
      "metadata": {
        "id": "n-l-JishT4TT"
      },
      "execution_count": null,
      "outputs": []
    },
    {
      "cell_type": "code",
      "source": [
        "def sql_insert_replace_comment(commentid,parentid,parent,comment,subreddit,time,score):\n",
        "    try:\n",
        "        sql = \"\"\"UPDATE parent_reply SET parent_id = ?, comment_id = ?, parent = ?, comment = ?, subreddit = ?, unix = ?, score = ? WHERE parent_id =?;\"\"\".format(parentid, commentid, comment, subreddit, unix, score )\n",
        "        transaction_bldr(sql)\n",
        "    except Exception as e:\n",
        "        print('s-UPDATE insertion',str(e))\n",
        "\n",
        "def sql_insert_has_parent(commentid,parentid,parent,comment,subreddit,time,score):\n",
        "    try:\n",
        "        sql = \"\"\"INSERT INTO parent_reply (parent_id, comment_id, parent, comment, subreddit, unix, score) VALUES (\"{}\",\"{}\",\"{}\",\"{}\",\"{}\",{},{});\"\"\".format(parent_id, commentid, parent, comment, subreddit, unix, score)\n",
        "        transaction_bldr(sql)\n",
        "    except Exception as e:\n",
        "        print('s-PARENT insertion',str(e))\n",
        "def sql_insert_no_parent(commentid,parentid,comment,subreddit,time,score):\n",
        "    try:\n",
        "        sql = \"\"\"INSERT INTO parent_reply (parent_id, comment_id, comment, subreddit, unix, score) VALUES (\"{}\",\"{}\",\"{}\",\"{}\",{},{});\"\"\".format(parent_id, commentid, comment, subreddit, unix, score)\n",
        "        transaction_bldr(sql)\n",
        "    except Exception as e:\n",
        "        print('s-NO_PARENT insertion',str(e))"
      ],
      "metadata": {
        "id": "WVUMzae6JJHe"
      },
      "execution_count": null,
      "outputs": []
    },
    {
      "cell_type": "code",
      "source": [
        "if __name__ == \"__main__\":\n",
        "    create_table()\n",
        "    row_counter = 0\n",
        "    paired_rows = 0\n",
        "\n",
        "    f = open('D:\\\\ml-25m\\\\movies.csv'):\n",
        "    #with open(\"D:\\\\ml-25m\\\\movies.csv\".format(timeframe.split('-')[0], timeframe), buffering=1000) as f:\n",
        "        for row in f:\n",
        "            row_counter += 1\n",
        "            row = json.loads(row)\n",
        "            parent_id = row['parent_id']\n",
        "            body = format_data(row['body'])\n",
        "            created_utc = row['created_utc']\n",
        "            score = row['score']\n",
        "            subreddit = row['subreddit']\n",
        "            comment_id = row['name']\n",
        "            parent_data = find_parent(parent_id)\n",
        "\n",
        "            if score >= 2:\n",
        "                if acceptabel(body):\n",
        "                    existing_comment_score = find_existing_score(parent_id)\n",
        "                    if existing_comment_score:\n",
        "                        if score > existing_comment_score:\n",
        "                            sql_insert_replace_comment(comment_id, parent_id, parent_data, body, subreddit, created_utc, score)\n",
        "                    else:\n",
        "                        if parent_data:\n",
        "                            sql_insert_has_parent(comment_id, parent_id, parent_data, body, subreddit, created_utc, score)\n",
        "                            paired_rows +=1\n",
        "                        else:\n",
        "                            sql_insert_no_parent(comment_id, parent_id, parent_data, body, subreddit, created_utc, score)\n",
        "\n",
        "\n",
        "            if row_counter % 100000 == 0:\n",
        "                print(\"Ttal rows read: {}, Paired rows: {}, Time: {}\".format(row_counter, paired_rows, str(datetime.now())))\n"
      ],
      "metadata": {
        "colab": {
          "base_uri": "https://localhost:8080/",
          "height": 219
        },
        "id": "DNcD1ZO67kSQ",
        "outputId": "33bc6ea5-cf25-4ba9-d94d-c075e6523872"
      },
      "execution_count": 25,
      "outputs": [
        {
          "output_type": "error",
          "ename": "FileNotFoundError",
          "evalue": "[Errno 2] No such file or directory: 'D:/ml-25m/movies.csv'",
          "traceback": [
            "\u001b[0;31m---------------------------------------------------------------------------\u001b[0m",
            "\u001b[0;31mFileNotFoundError\u001b[0m                         Traceback (most recent call last)",
            "\u001b[0;32m<ipython-input-25-1d869aa38859>\u001b[0m in \u001b[0;36m<cell line: 1>\u001b[0;34m()\u001b[0m\n\u001b[1;32m      4\u001b[0m     \u001b[0mpaired_rows\u001b[0m \u001b[0;34m=\u001b[0m \u001b[0;36m0\u001b[0m\u001b[0;34m\u001b[0m\u001b[0;34m\u001b[0m\u001b[0m\n\u001b[1;32m      5\u001b[0m \u001b[0;34m\u001b[0m\u001b[0m\n\u001b[0;32m----> 6\u001b[0;31m     \u001b[0;32mwith\u001b[0m \u001b[0mopen\u001b[0m\u001b[0;34m(\u001b[0m\u001b[0;34m\"D:/ml-25m/movies.csv\"\u001b[0m\u001b[0;34m.\u001b[0m\u001b[0mformat\u001b[0m\u001b[0;34m(\u001b[0m\u001b[0mtimeframe\u001b[0m\u001b[0;34m.\u001b[0m\u001b[0msplit\u001b[0m\u001b[0;34m(\u001b[0m\u001b[0;34m'-'\u001b[0m\u001b[0;34m)\u001b[0m\u001b[0;34m[\u001b[0m\u001b[0;36m0\u001b[0m\u001b[0;34m]\u001b[0m\u001b[0;34m,\u001b[0m \u001b[0mtimeframe\u001b[0m\u001b[0;34m)\u001b[0m\u001b[0;34m,\u001b[0m \u001b[0mbuffering\u001b[0m\u001b[0;34m=\u001b[0m\u001b[0;36m1000\u001b[0m\u001b[0;34m)\u001b[0m \u001b[0;32mas\u001b[0m \u001b[0mf\u001b[0m\u001b[0;34m:\u001b[0m\u001b[0;34m\u001b[0m\u001b[0;34m\u001b[0m\u001b[0m\n\u001b[0m\u001b[1;32m      7\u001b[0m         \u001b[0;32mfor\u001b[0m \u001b[0mrow\u001b[0m \u001b[0;32min\u001b[0m \u001b[0mf\u001b[0m\u001b[0;34m:\u001b[0m\u001b[0;34m\u001b[0m\u001b[0;34m\u001b[0m\u001b[0m\n\u001b[1;32m      8\u001b[0m             \u001b[0mrow_counter\u001b[0m \u001b[0;34m+=\u001b[0m \u001b[0;36m1\u001b[0m\u001b[0;34m\u001b[0m\u001b[0;34m\u001b[0m\u001b[0m\n",
            "\u001b[0;31mFileNotFoundError\u001b[0m: [Errno 2] No such file or directory: 'D:/ml-25m/movies.csv'"
          ]
        }
      ]
    },
    {
      "cell_type": "code",
      "source": [],
      "metadata": {
        "id": "WgBjErHzAxmT"
      },
      "execution_count": null,
      "outputs": []
    }
  ]
}